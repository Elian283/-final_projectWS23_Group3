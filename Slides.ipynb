{
 "cells": [
  {
   "cell_type": "code",
   "execution_count": 9,
   "id": "ca87a39f",
   "metadata": {
    "slideshow": {
     "slide_type": "skip"
    }
   },
   "outputs": [],
   "source": [
    "import pandas as pd\n",
    "import matplotlib.pyplot as plt\n",
    "import seaborn as sns\n",
    "import math\n",
    "import numpy as np\n",
    "%matplotlib inline\n",
    "from sklearn.linear_model import LinearRegression, LogisticRegression \n",
    "from IPython.display import display\n",
    "import warnings\n",
    "warnings.filterwarnings(\"ignore\", category=UserWarning)"
   ]
  },
  {
   "cell_type": "code",
   "execution_count": 10,
   "id": "0b23a55b",
   "metadata": {
    "slideshow": {
     "slide_type": "skip"
    }
   },
   "outputs": [
    {
     "name": "stdout",
     "output_type": "stream",
     "text": [
      "Investigation started at: 2024-01-03 15:49:41.368229\n"
     ]
    }
   ],
   "source": [
    "import datetime as dt \n",
    "start_time = dt.datetime.now()\n",
    "print('Investigation started at: {}'.format(start_time))"
   ]
  },
  {
   "cell_type": "code",
   "execution_count": 11,
   "id": "59eaa091",
   "metadata": {
    "slideshow": {
     "slide_type": "skip"
    }
   },
   "outputs": [],
   "source": [
    "df_cust = pd.read_csv(\"data/kunden.csv\", sep=\";\")\n",
    "df_vis = pd.read_csv(\"data/besucher copy.csv\", sep=\";\", decimal='.')\n",
    "df_geo = pd.read_csv(\"data/geo_test.csv\", delimiter=\";\")"
   ]
  },
  {
   "cell_type": "markdown",
   "id": "6129c970",
   "metadata": {
    "slideshow": {
     "slide_type": "slide"
    }
   },
   "source": [
    "<font size = \"20\">Elektrauto AG</font>\n",
    "\n",
    "<i> HWR Berlin, Wintersemester 2023-2024</i>\n",
    "\n",
    "<i> Sarah Leta, Noah Bonekamp, Elian Bartsch</i>"
   ]
  },
  {
   "cell_type": "code",
   "execution_count": 13,
   "id": "d793b195",
   "metadata": {
    "slideshow": {
     "slide_type": "skip"
    }
   },
   "outputs": [],
   "source": [
    "df_geo['Niederlassung']= df_geo['Niederlassung'].astype(str)\n",
    "df_geo['Niederlassung'] = df_geo['Niederlassung'].str.title()\n",
    "#Data Cleaning um nur noch die Bundesländer zu zeigen\n",
    "mapping = {\n",
    "    'Berlin-Mitte': 'Berlin',\n",
    "    'Berlin-Charlottenburg': 'Berlin',\n",
    "    'Nrw': 'Nordrhein-Westfalen',\n",
    "    'Düsseldorf': 'Nordrhein-Westfalen'\n",
    "}\n",
    "df_geo['Niederlassung'] = df_geo['Niederlassung'].replace(mapping, regex=True)"
   ]
  },
  {
   "cell_type": "code",
   "execution_count": 14,
   "id": "886df078",
   "metadata": {
    "slideshow": {
     "slide_type": "skip"
    }
   },
   "outputs": [],
   "source": [
    "#zusammenführen der geodaten\n",
    "cust_m = pd.merge(df_cust, df_geo, how='left', on='KundeNr')\n",
    "vis_m = pd.merge(df_vis, df_geo, how='left', on='KundeNr')\n",
    "cust_m_copy = cust_m.copy()"
   ]
  },
  {
   "cell_type": "code",
   "execution_count": 15,
   "id": "fdd6c27c",
   "metadata": {
    "scrolled": false,
    "slideshow": {
     "slide_type": "skip"
    }
   },
   "outputs": [
    {
     "name": "stdout",
     "output_type": "stream",
     "text": [
      "['Sachsen', 'Nordrhein-Westfalen', 'Hessen', 'Bayern', 'Baden-Württemberg', 'Berlin', 'Niedersachsen', 'Brandenburg', 'Thüringen', 'Hamburg']\n",
      "Wir haben Kunden aus 10 Bundesländern\n"
     ]
    }
   ],
   "source": [
    "uniques = list(df_geo['Niederlassung'].unique())\n",
    "print(uniques)\n",
    "n_unique = df_geo['Niederlassung'].nunique()\n",
    "print(f'Wir haben Kunden aus {n_unique} Bundesländern')\n",
    "#Kunden sind aus 10 Bundesländern vertreten "
   ]
  },
  {
   "cell_type": "code",
   "execution_count": 16,
   "id": "c51b293a",
   "metadata": {
    "slideshow": {
     "slide_type": "skip"
    }
   },
   "outputs": [],
   "source": [
    "#index setzen auf die Kundennummer\n",
    "cust_m.set_index('KundeNr', inplace=True)\n",
    "vis_m.set_index('KundeNr', inplace=True)"
   ]
  },
  {
   "cell_type": "code",
   "execution_count": 17,
   "id": "558c6eb3",
   "metadata": {
    "scrolled": true,
    "slideshow": {
     "slide_type": "skip"
    }
   },
   "outputs": [
    {
     "name": "stdout",
     "output_type": "stream",
     "text": [
      "<class 'pandas.core.frame.DataFrame'>\n",
      "Index: 1104 entries, K0310 to K0861\n",
      "Data columns (total 6 columns):\n",
      " #   Column         Non-Null Count  Dtype  \n",
      "---  ------         --------------  -----  \n",
      " 0   Alter          1104 non-null   int64  \n",
      " 1   Einkommen      1104 non-null   object \n",
      " 2   Preis          1104 non-null   float64\n",
      " 3   Geschlecht     1099 non-null   float64\n",
      " 4   Zeit           1104 non-null   float64\n",
      " 5   Niederlassung  1104 non-null   object \n",
      "dtypes: float64(3), int64(1), object(2)\n",
      "memory usage: 60.4+ KB\n"
     ]
    }
   ],
   "source": [
    "cust_m.info()"
   ]
  },
  {
   "cell_type": "code",
   "execution_count": 18,
   "id": "9b250ccc",
   "metadata": {
    "slideshow": {
     "slide_type": "skip"
    }
   },
   "outputs": [
    {
     "data": {
      "text/html": [
       "<div>\n",
       "<style scoped>\n",
       "    .dataframe tbody tr th:only-of-type {\n",
       "        vertical-align: middle;\n",
       "    }\n",
       "\n",
       "    .dataframe tbody tr th {\n",
       "        vertical-align: top;\n",
       "    }\n",
       "\n",
       "    .dataframe thead th {\n",
       "        text-align: right;\n",
       "    }\n",
       "</style>\n",
       "<table border=\"1\" class=\"dataframe\">\n",
       "  <thead>\n",
       "    <tr style=\"text-align: right;\">\n",
       "      <th></th>\n",
       "      <th>Alter</th>\n",
       "      <th>Einkommen</th>\n",
       "      <th>Preis</th>\n",
       "      <th>Geschlecht</th>\n",
       "      <th>Zeit</th>\n",
       "      <th>Niederlassung</th>\n",
       "    </tr>\n",
       "    <tr>\n",
       "      <th>KundeNr</th>\n",
       "      <th></th>\n",
       "      <th></th>\n",
       "      <th></th>\n",
       "      <th></th>\n",
       "      <th></th>\n",
       "      <th></th>\n",
       "    </tr>\n",
       "  </thead>\n",
       "  <tbody>\n",
       "    <tr>\n",
       "      <th>K0310</th>\n",
       "      <td>64</td>\n",
       "      <td>66894.0</td>\n",
       "      <td>88160.31</td>\n",
       "      <td>1.0</td>\n",
       "      <td>43.0</td>\n",
       "      <td>Bayern</td>\n",
       "    </tr>\n",
       "    <tr>\n",
       "      <th>K1042</th>\n",
       "      <td>54</td>\n",
       "      <td>77644.0</td>\n",
       "      <td>103145.70</td>\n",
       "      <td>1.0</td>\n",
       "      <td>40.0</td>\n",
       "      <td>Berlin</td>\n",
       "    </tr>\n",
       "    <tr>\n",
       "      <th>K0382</th>\n",
       "      <td>55</td>\n",
       "      <td>44341.0</td>\n",
       "      <td>80565.16</td>\n",
       "      <td>0.0</td>\n",
       "      <td>37.0</td>\n",
       "      <td>Baden-Württemberg</td>\n",
       "    </tr>\n",
       "    <tr>\n",
       "      <th>K0498</th>\n",
       "      <td>49</td>\n",
       "      <td>67271.0</td>\n",
       "      <td>83949.89</td>\n",
       "      <td>0.0</td>\n",
       "      <td>42.0</td>\n",
       "      <td>Bayern</td>\n",
       "    </tr>\n",
       "    <tr>\n",
       "      <th>K0552</th>\n",
       "      <td>46</td>\n",
       "      <td>49832.0</td>\n",
       "      <td>93781.58</td>\n",
       "      <td>0.0</td>\n",
       "      <td>41.0</td>\n",
       "      <td>Hessen</td>\n",
       "    </tr>\n",
       "  </tbody>\n",
       "</table>\n",
       "</div>"
      ],
      "text/plain": [
       "         Alter Einkommen      Preis  Geschlecht  Zeit      Niederlassung\n",
       "KundeNr                                                                 \n",
       "K0310       64   66894.0   88160.31         1.0  43.0             Bayern\n",
       "K1042       54   77644.0  103145.70         1.0  40.0             Berlin\n",
       "K0382       55   44341.0   80565.16         0.0  37.0  Baden-Württemberg\n",
       "K0498       49   67271.0   83949.89         0.0  42.0             Bayern\n",
       "K0552       46   49832.0   93781.58         0.0  41.0             Hessen"
      ]
     },
     "execution_count": 18,
     "metadata": {},
     "output_type": "execute_result"
    }
   ],
   "source": [
    "cust_m.head(5)"
   ]
  },
  {
   "cell_type": "code",
   "execution_count": 19,
   "id": "31204f01",
   "metadata": {
    "slideshow": {
     "slide_type": "skip"
    }
   },
   "outputs": [
    {
     "data": {
      "text/html": [
       "<div>\n",
       "<style scoped>\n",
       "    .dataframe tbody tr th:only-of-type {\n",
       "        vertical-align: middle;\n",
       "    }\n",
       "\n",
       "    .dataframe tbody tr th {\n",
       "        vertical-align: top;\n",
       "    }\n",
       "\n",
       "    .dataframe thead th {\n",
       "        text-align: right;\n",
       "    }\n",
       "</style>\n",
       "<table border=\"1\" class=\"dataframe\">\n",
       "  <thead>\n",
       "    <tr style=\"text-align: right;\">\n",
       "      <th></th>\n",
       "      <th>count</th>\n",
       "      <th>mean</th>\n",
       "      <th>std</th>\n",
       "      <th>min</th>\n",
       "      <th>25%</th>\n",
       "      <th>50%</th>\n",
       "      <th>75%</th>\n",
       "      <th>max</th>\n",
       "    </tr>\n",
       "  </thead>\n",
       "  <tbody>\n",
       "    <tr>\n",
       "      <th>Alter</th>\n",
       "      <td>1104.0</td>\n",
       "      <td>50.481884</td>\n",
       "      <td>12.225059</td>\n",
       "      <td>30.00</td>\n",
       "      <td>40.0000</td>\n",
       "      <td>51.000</td>\n",
       "      <td>61.000</td>\n",
       "      <td>120.00</td>\n",
       "    </tr>\n",
       "    <tr>\n",
       "      <th>Preis</th>\n",
       "      <td>1104.0</td>\n",
       "      <td>88975.198714</td>\n",
       "      <td>24464.067781</td>\n",
       "      <td>21471.65</td>\n",
       "      <td>70609.4225</td>\n",
       "      <td>88931.455</td>\n",
       "      <td>107093.375</td>\n",
       "      <td>165482.31</td>\n",
       "    </tr>\n",
       "    <tr>\n",
       "      <th>Geschlecht</th>\n",
       "      <td>1099.0</td>\n",
       "      <td>0.637853</td>\n",
       "      <td>0.480840</td>\n",
       "      <td>0.00</td>\n",
       "      <td>0.0000</td>\n",
       "      <td>1.000</td>\n",
       "      <td>1.000</td>\n",
       "      <td>1.00</td>\n",
       "    </tr>\n",
       "    <tr>\n",
       "      <th>Zeit</th>\n",
       "      <td>1104.0</td>\n",
       "      <td>44.375906</td>\n",
       "      <td>10.848040</td>\n",
       "      <td>12.00</td>\n",
       "      <td>37.0000</td>\n",
       "      <td>44.000</td>\n",
       "      <td>52.000</td>\n",
       "      <td>80.00</td>\n",
       "    </tr>\n",
       "  </tbody>\n",
       "</table>\n",
       "</div>"
      ],
      "text/plain": [
       "             count          mean           std       min         25%  \\\n",
       "Alter       1104.0     50.481884     12.225059     30.00     40.0000   \n",
       "Preis       1104.0  88975.198714  24464.067781  21471.65  70609.4225   \n",
       "Geschlecht  1099.0      0.637853      0.480840      0.00      0.0000   \n",
       "Zeit        1104.0     44.375906     10.848040     12.00     37.0000   \n",
       "\n",
       "                  50%         75%        max  \n",
       "Alter          51.000      61.000     120.00  \n",
       "Preis       88931.455  107093.375  165482.31  \n",
       "Geschlecht      1.000       1.000       1.00  \n",
       "Zeit           44.000      52.000      80.00  "
      ]
     },
     "execution_count": 19,
     "metadata": {},
     "output_type": "execute_result"
    }
   ],
   "source": [
    "cust_m.describe().T"
   ]
  },
  {
   "cell_type": "code",
   "execution_count": 20,
   "id": "40f6f83e",
   "metadata": {
    "slideshow": {
     "slide_type": "skip"
    }
   },
   "outputs": [
    {
     "data": {
      "text/html": [
       "<div>\n",
       "<style scoped>\n",
       "    .dataframe tbody tr th:only-of-type {\n",
       "        vertical-align: middle;\n",
       "    }\n",
       "\n",
       "    .dataframe tbody tr th {\n",
       "        vertical-align: top;\n",
       "    }\n",
       "\n",
       "    .dataframe thead th {\n",
       "        text-align: right;\n",
       "    }\n",
       "</style>\n",
       "<table border=\"1\" class=\"dataframe\">\n",
       "  <thead>\n",
       "    <tr style=\"text-align: right;\">\n",
       "      <th></th>\n",
       "      <th>count</th>\n",
       "      <th>mean</th>\n",
       "      <th>std</th>\n",
       "      <th>min</th>\n",
       "      <th>25%</th>\n",
       "      <th>50%</th>\n",
       "      <th>75%</th>\n",
       "      <th>max</th>\n",
       "    </tr>\n",
       "  </thead>\n",
       "  <tbody>\n",
       "    <tr>\n",
       "      <th>Alter</th>\n",
       "      <td>891.0</td>\n",
       "      <td>49.881033</td>\n",
       "      <td>11.865889</td>\n",
       "      <td>30.00</td>\n",
       "      <td>40.00</td>\n",
       "      <td>49.00</td>\n",
       "      <td>60.00</td>\n",
       "      <td>70.00</td>\n",
       "    </tr>\n",
       "    <tr>\n",
       "      <th>Einkommen</th>\n",
       "      <td>891.0</td>\n",
       "      <td>59367.936061</td>\n",
       "      <td>16164.358281</td>\n",
       "      <td>10802.03</td>\n",
       "      <td>47816.61</td>\n",
       "      <td>59163.82</td>\n",
       "      <td>71001.38</td>\n",
       "      <td>108569.09</td>\n",
       "    </tr>\n",
       "    <tr>\n",
       "      <th>Geschlecht</th>\n",
       "      <td>891.0</td>\n",
       "      <td>0.578002</td>\n",
       "      <td>0.494156</td>\n",
       "      <td>0.00</td>\n",
       "      <td>0.00</td>\n",
       "      <td>1.00</td>\n",
       "      <td>1.00</td>\n",
       "      <td>1.00</td>\n",
       "    </tr>\n",
       "    <tr>\n",
       "      <th>Zeit</th>\n",
       "      <td>891.0</td>\n",
       "      <td>35.166105</td>\n",
       "      <td>10.476802</td>\n",
       "      <td>3.00</td>\n",
       "      <td>28.00</td>\n",
       "      <td>35.00</td>\n",
       "      <td>43.00</td>\n",
       "      <td>68.00</td>\n",
       "    </tr>\n",
       "  </tbody>\n",
       "</table>\n",
       "</div>"
      ],
      "text/plain": [
       "            count          mean           std       min       25%       50%  \\\n",
       "Alter       891.0     49.881033     11.865889     30.00     40.00     49.00   \n",
       "Einkommen   891.0  59367.936061  16164.358281  10802.03  47816.61  59163.82   \n",
       "Geschlecht  891.0      0.578002      0.494156      0.00      0.00      1.00   \n",
       "Zeit        891.0     35.166105     10.476802      3.00     28.00     35.00   \n",
       "\n",
       "                 75%        max  \n",
       "Alter          60.00      70.00  \n",
       "Einkommen   71001.38  108569.09  \n",
       "Geschlecht      1.00       1.00  \n",
       "Zeit           43.00      68.00  "
      ]
     },
     "execution_count": 20,
     "metadata": {},
     "output_type": "execute_result"
    }
   ],
   "source": [
    "vis_m.describe().T"
   ]
  },
  {
   "cell_type": "code",
   "execution_count": 22,
   "id": "7f5a0418",
   "metadata": {
    "slideshow": {
     "slide_type": "skip"
    }
   },
   "outputs": [
    {
     "data": {
      "text/plain": [
       "<seaborn.axisgrid.FacetGrid at 0x174393e26d0>"
      ]
     },
     "execution_count": 22,
     "metadata": {},
     "output_type": "execute_result"
    },
    {
     "data": {
      "image/png": "[encoded data removed]",
      "text/plain": [
       "<Figure size 800x800 with 1 Axes>"
      ]
     },
     "metadata": {},
     "output_type": "display_data"
    }
   ],
   "source": [
    "sns.catplot(x='Alter', y='Preis', data=cust_m, kind='box', height=8)"
   ]
  },
  {
   "cell_type": "code",
   "execution_count": 54,
   "id": "5e29b1ce",
   "metadata": {
    "slideshow": {
     "slide_type": "skip"
    }
   },
   "outputs": [],
   "source": [
    "import pandas as pd\n",
    "\n",
    "# Assuming 'cust_m' is your DataFrame\n",
    "\n",
    "# Convert 'Einkommen' and 'Alter' columns to numeric\n",
    "cust_m['Einkommen'] = pd.to_numeric(cust_m['Einkommen'], errors='coerce')\n",
    "cust_m['Alter'] = pd.to_numeric(cust_m['Alter'], errors='coerce')\n",
    "\n",
    "# Drop rows with NaN values (if any) after the conversion\n",
    "cust_m = cust_m.dropna(subset=['Einkommen', 'Alter'])\n",
    "\n",
    "# Outlier detection for 'Einkommen'\n",
    "Q1 = cust_m['Einkommen'].quantile(0.25)\n",
    "Q3 = cust_m['Einkommen'].quantile(0.75)\n",
    "IQR = Q3 - Q1\n",
    "\n",
    "lower_bound = Q1 - 1.5 * IQR\n",
    "upper_bound = Q3 + 1.5 * IQR\n",
    "\n",
    "cust_m = cust_m[(cust_m['Einkommen'] >= lower_bound) & (cust_m['Einkommen'] < upper_bound)]\n",
    "\n",
    "# Outlier detection for 'Alter'\n",
    "Q1_Alter = cust_m['Alter'].quantile(0.25)\n",
    "Q3_Alter = cust_m['Alter'].quantile(0.75)\n",
    "IQR_Alter = Q3_Alter - Q1_Alter\n",
    "\n",
    "lower_bound_Alter = Q1_Alter - 1.5 * IQR_Alter\n",
    "upper_bound_Alter = Q3_Alter + 1.5 * IQR_Alter\n",
    "\n",
    "cust_m = cust_m[(cust_m['Alter'] >= lower_bound_Alter) & (cust_m['Alter'] < upper_bound_Alter)]\n",
    "#this excludes 11 rows "
   ]
  },
  {
   "cell_type": "code",
   "execution_count": 24,
   "id": "0873b7d0",
   "metadata": {
    "scrolled": false,
    "slideshow": {
     "slide_type": "skip"
    }
   },
   "outputs": [
    {
     "data": {
      "text/html": [
       "<div>\n",
       "<style scoped>\n",
       "    .dataframe tbody tr th:only-of-type {\n",
       "        vertical-align: middle;\n",
       "    }\n",
       "\n",
       "    .dataframe tbody tr th {\n",
       "        vertical-align: top;\n",
       "    }\n",
       "\n",
       "    .dataframe thead th {\n",
       "        text-align: right;\n",
       "    }\n",
       "</style>\n",
       "<table border=\"1\" class=\"dataframe\">\n",
       "  <thead>\n",
       "    <tr style=\"text-align: right;\">\n",
       "      <th></th>\n",
       "      <th>Alter</th>\n",
       "      <th>Einkommen</th>\n",
       "      <th>Preis</th>\n",
       "      <th>Geschlecht</th>\n",
       "      <th>Zeit</th>\n",
       "      <th>Niederlassung</th>\n",
       "    </tr>\n",
       "    <tr>\n",
       "      <th>KundeNr</th>\n",
       "      <th></th>\n",
       "      <th></th>\n",
       "      <th></th>\n",
       "      <th></th>\n",
       "      <th></th>\n",
       "      <th></th>\n",
       "    </tr>\n",
       "  </thead>\n",
       "  <tbody>\n",
       "    <tr>\n",
       "      <th>K0310</th>\n",
       "      <td>64</td>\n",
       "      <td>66894.0</td>\n",
       "      <td>88160.31</td>\n",
       "      <td>1.0</td>\n",
       "      <td>43.0</td>\n",
       "      <td>Bayern</td>\n",
       "    </tr>\n",
       "    <tr>\n",
       "      <th>K1042</th>\n",
       "      <td>54</td>\n",
       "      <td>77644.0</td>\n",
       "      <td>103145.70</td>\n",
       "      <td>1.0</td>\n",
       "      <td>40.0</td>\n",
       "      <td>Berlin</td>\n",
       "    </tr>\n",
       "    <tr>\n",
       "      <th>K0382</th>\n",
       "      <td>55</td>\n",
       "      <td>44341.0</td>\n",
       "      <td>80565.16</td>\n",
       "      <td>0.0</td>\n",
       "      <td>37.0</td>\n",
       "      <td>Baden-Württemberg</td>\n",
       "    </tr>\n",
       "    <tr>\n",
       "      <th>K0498</th>\n",
       "      <td>49</td>\n",
       "      <td>67271.0</td>\n",
       "      <td>83949.89</td>\n",
       "      <td>0.0</td>\n",
       "      <td>42.0</td>\n",
       "      <td>Bayern</td>\n",
       "    </tr>\n",
       "    <tr>\n",
       "      <th>K0552</th>\n",
       "      <td>46</td>\n",
       "      <td>49832.0</td>\n",
       "      <td>93781.58</td>\n",
       "      <td>0.0</td>\n",
       "      <td>41.0</td>\n",
       "      <td>Hessen</td>\n",
       "    </tr>\n",
       "  </tbody>\n",
       "</table>\n",
       "</div>"
      ],
      "text/plain": [
       "         Alter  Einkommen      Preis  Geschlecht  Zeit      Niederlassung\n",
       "KundeNr                                                                  \n",
       "K0310       64    66894.0   88160.31         1.0  43.0             Bayern\n",
       "K1042       54    77644.0  103145.70         1.0  40.0             Berlin\n",
       "K0382       55    44341.0   80565.16         0.0  37.0  Baden-Württemberg\n",
       "K0498       49    67271.0   83949.89         0.0  42.0             Bayern\n",
       "K0552       46    49832.0   93781.58         0.0  41.0             Hessen"
      ]
     },
     "execution_count": 24,
     "metadata": {},
     "output_type": "execute_result"
    }
   ],
   "source": [
    "cust_m.head(5)"
   ]
  },
  {
   "cell_type": "markdown",
   "id": "c2060f09",
   "metadata": {
    "slideshow": {
     "slide_type": "slide"
    }
   },
   "source": [
    "<font size = \"8\">Ergebnisse der Umfrage</font>"
   ]
  },
  {
   "cell_type": "markdown",
   "id": "50cd5b58",
   "metadata": {
    "slideshow": {
     "slide_type": "slide"
    }
   },
   "source": [
    "<font size = \"8\">1. Wie viele Autos wurden verkauft? Und was ist der Hoechst-, Mindest- und Durchschnittspreis der verkauften Autos? Wie hoch war der Gesamtumsatz?\n",
    "</font> "
   ]
  },
  {
   "cell_type": "code",
   "execution_count": 72,
   "id": "4e6a2d60",
   "metadata": {
    "slideshow": {
     "slide_type": "subslide"
    }
   },
   "outputs": [
    {
     "data": {
      "text/html": [
       "<div>\n",
       "<style scoped>\n",
       "    .dataframe tbody tr th:only-of-type {\n",
       "        vertical-align: middle;\n",
       "    }\n",
       "\n",
       "    .dataframe tbody tr th {\n",
       "        vertical-align: top;\n",
       "    }\n",
       "\n",
       "    .dataframe thead th {\n",
       "        text-align: right;\n",
       "    }\n",
       "</style>\n",
       "<table border=\"1\" class=\"dataframe\">\n",
       "  <thead>\n",
       "    <tr style=\"text-align: right;\">\n",
       "      <th></th>\n",
       "      <th>Anzahl verkaufter Fzg.</th>\n",
       "      <th>Durchschnitt</th>\n",
       "      <th>Maximaler Preis</th>\n",
       "      <th>Minimaler Preis</th>\n",
       "      <th>Gesamtumsatz</th>\n",
       "    </tr>\n",
       "  </thead>\n",
       "  <tbody>\n",
       "    <tr>\n",
       "      <th>0</th>\n",
       "      <td>1104</td>\n",
       "      <td>88,788.76 E</td>\n",
       "      <td>149,827.25 E</td>\n",
       "      <td>21,471.65 E</td>\n",
       "      <td>97,046,110.06 E</td>\n",
       "    </tr>\n",
       "  </tbody>\n",
       "</table>\n",
       "</div>"
      ],
      "text/plain": [
       "   Anzahl verkaufter Fzg. Durchschnitt Maximaler Preis Minimaler Preis  \\\n",
       "0                    1104  88,788.76 E    149,827.25 E     21,471.65 E   \n",
       "\n",
       "      Gesamtumsatz  \n",
       "0  97,046,110.06 E  "
      ]
     },
     "metadata": {},
     "output_type": "display_data"
    }
   ],
   "source": [
    "mean_v = cust_m['Preis'].mean()\n",
    "max_v = cust_m['Preis'].max()\n",
    "min_v = cust_m['Preis'].min()\n",
    "Total = cust_m['Preis'].sum()\n",
    "total_sold = cust_m_copy.index.nunique()\n",
    "\n",
    "mean_values = round(mean_v, 2)\n",
    "max_values = round(max_v, 2)\n",
    "min_values = round(min_v,2)\n",
    "total_value = round(Total, 2)\n",
    "\n",
    "#Euro anzeigen lassen vor den Values\n",
    "table = pd.DataFrame({\n",
    "    'Anzahl verkaufter Fzg.': [total_sold],\n",
    "    'Durchschnitt': ['{:,.2f} E'.format(mean_values)],\n",
    "    'Maximaler Preis': ['{:,.2f} E'.format(max_values)],\n",
    "    'Minimaler Preis': ['{:,.2f} E'.format(min_values)],\n",
    "    'Gesamtumsatz': ['{:,.2f} E'.format(total_value)]\n",
    "}, index=None)  \n",
    "display(table)"
   ]
  },
  {
   "cell_type": "markdown",
   "id": "fabcd405",
   "metadata": {
    "slideshow": {
     "slide_type": "slide"
    }
   },
   "source": [
    "<font size = \"8\">2. Wie viele Autos wurden pro Bundesland verkauft?</font>"
   ]
  },
  {
   "cell_type": "code",
   "execution_count": 31,
   "id": "67f3369c",
   "metadata": {
    "scrolled": true,
    "slideshow": {
     "slide_type": "subslide"
    }
   },
   "outputs": [
    {
     "data": {
      "image/png": "[encoded data removed]",
      "text/plain": [
       "<Figure size 1000x400 with 2 Axes>"
      ]
     },
     "metadata": {},
     "output_type": "display_data"
    }
   ],
   "source": [
    "var = cust_m['Niederlassung'].value_counts()\n",
    "mean_value = var.mean()\n",
    "\n",
    "var2= cust_m.groupby('Niederlassung')['Preis'].agg('sum')\n",
    "\n",
    "revenue = var2/var\n",
    "\n",
    "fig, (ax1, ax2) = plt.subplots(1, 2, figsize = (10, 4))\n",
    "ax1.bar(var.index, var.values, color='blue')\n",
    "ax1.set_ylabel('Verkaufte Autos')\n",
    "ax1.set_title('Verkaufte Autos je Bundesland')\n",
    "ax1.set_xticklabels(ax1.get_xticklabels(), rotation=45, ha='right')\n",
    "ax1.axhline(y=mean_value, color='red', linestyle='-')\n",
    "\n",
    "ax2.bar(var2.index, revenue.values, color='skyblue')\n",
    "ax2.set_ylabel('Durchschnittlicher Umsatz') \n",
    "ax2.set_xticklabels(ax2.get_xticklabels(), rotation=45, ha='right')\n",
    "ax2.set_title('Durchschnittlicher Preis je Bundesland')\n",
    "\n",
    "plt.show()"
   ]
  },
  {
   "cell_type": "code",
   "execution_count": 32,
   "id": "2028201e",
   "metadata": {
    "scrolled": true,
    "slideshow": {
     "slide_type": "skip"
    }
   },
   "outputs": [
    {
     "data": {
      "text/plain": [
       "Niederlassung\n",
       "Baden-Württemberg      203\n",
       "Bayern                 186\n",
       "Nordrhein-Westfalen    174\n",
       "Berlin                 126\n",
       "Hessen                  96\n",
       "Niedersachsen           95\n",
       "Sachsen                 89\n",
       "Thüringen               49\n",
       "Hamburg                 43\n",
       "Brandenburg             37\n",
       "Name: count, dtype: int64"
      ]
     },
     "metadata": {},
     "output_type": "display_data"
    }
   ],
   "source": [
    "var = cust_m['Niederlassung'].value_counts()\n",
    "display(var)"
   ]
  },
  {
   "cell_type": "markdown",
   "id": "ad309d51",
   "metadata": {
    "slideshow": {
     "slide_type": "subslide"
    }
   },
   "source": [
    "<h3>Gesamtprofit pro Bundesland</h3>"
   ]
  },
  {
   "cell_type": "code",
   "execution_count": 33,
   "id": "3218e22a",
   "metadata": {
    "scrolled": true,
    "slideshow": {
     "slide_type": "subslide"
    }
   },
   "outputs": [
    {
     "name": "stdout",
     "output_type": "stream",
     "text": [
      "Niederlassung\n",
      "Baden-Württemberg      18451708.14\n",
      "Bayern                 16552456.61\n",
      "Berlin                 11287707.99\n",
      "Brandenburg             3206924.71\n",
      "Hamburg                 3678628.46\n",
      "Hessen                  8243033.23\n",
      "Niedersachsen           8278995.69\n",
      "Nordrhein-Westfalen    15423611.69\n",
      "Sachsen                 7961502.18\n",
      "Thüringen               4450032.71\n",
      "Name: Preis, dtype: float64\n"
     ]
    }
   ],
   "source": [
    "var2= cust_m.groupby('Niederlassung')['Preis'].agg('sum')\n",
    "print(var2)"
   ]
  },
  {
   "cell_type": "markdown",
   "id": "f41fc4e9",
   "metadata": {
    "slideshow": {
     "slide_type": "slide"
    }
   },
   "source": [
    "<font size = \"8\">3. Haben mehr Frauen oder mehr Maenner unsere Autos gekauft?</font>"
   ]
  },
  {
   "cell_type": "code",
   "execution_count": 30,
   "id": "7cdcc891",
   "metadata": {
    "slideshow": {
     "slide_type": "subslide"
    }
   },
   "outputs": [
    {
     "data": {
      "image/png": "[encoded data removed]",
      "text/plain": [
       "<Figure size 1000x600 with 2 Axes>"
      ]
     },
     "metadata": {},
     "output_type": "display_data"
    }
   ],
   "source": [
    "\n",
    "var = cust_m['Geschlecht'].value_counts()\n",
    "\n",
    "fig, (ax1, ax2) = plt.subplots(1, 2, figsize=(10, 6))\n",
    "\n",
    "ax1.bar(var.index, var, color=['red', 'blue'])\n",
    "ax1.set_ylabel('Anzahl verkaufter Fzg.')\n",
    "ax1.set_title('Gegenüberstellung Geschlecht')\n",
    "ax1.set_xticks([0, 1])\n",
    "ax1.set_xticklabels(['Weiblich', 'Männlich'], rotation=45)\n",
    "\n",
    "labels = {1.0: 'Männlich', 0.0: 'Weiblich'}\n",
    "\n",
    "var2 = cust_m['Geschlecht'].value_counts()\n",
    "ax2.pie(var2, labels=labels.values(), autopct='%1.1f%%', startangle=90)\n",
    "ax2.axis('equal')\n",
    "\n",
    "plt.show()"
   ]
  },
  {
   "cell_type": "markdown",
   "id": "1f84a9be",
   "metadata": {
    "slideshow": {
     "slide_type": "slide"
    }
   },
   "source": [
    "<font size = \"8\">4. Durchschnittsalter unserer Kunden und Besucher und Durchschnittseinkommen unserer Kunden:</font>"
   ]
  },
  {
   "cell_type": "code",
   "execution_count": 57,
   "id": "4c1d6fd8",
   "metadata": {
    "scrolled": true,
    "slideshow": {
     "slide_type": "subslide"
    }
   },
   "outputs": [
    {
     "data": {
      "text/html": [
       "<div>\n",
       "<style scoped>\n",
       "    .dataframe tbody tr th:only-of-type {\n",
       "        vertical-align: middle;\n",
       "    }\n",
       "\n",
       "    .dataframe tbody tr th {\n",
       "        vertical-align: top;\n",
       "    }\n",
       "\n",
       "    .dataframe thead th {\n",
       "        text-align: right;\n",
       "    }\n",
       "</style>\n",
       "<table border=\"1\" class=\"dataframe\">\n",
       "  <thead>\n",
       "    <tr style=\"text-align: right;\">\n",
       "      <th></th>\n",
       "      <th>0</th>\n",
       "    </tr>\n",
       "  </thead>\n",
       "  <tbody>\n",
       "    <tr>\n",
       "      <th>Durschnittliches Alter Kunden</th>\n",
       "      <td>50.29</td>\n",
       "    </tr>\n",
       "    <tr>\n",
       "      <th>Durschnittliches Alter Visitors</th>\n",
       "      <td>49.88</td>\n",
       "    </tr>\n",
       "    <tr>\n",
       "      <th>Durchschnittliches Alter maennlich (Kunden)</th>\n",
       "      <td>50.34</td>\n",
       "    </tr>\n",
       "    <tr>\n",
       "      <th>Durchschnittliches Alter weiblich (Kunden)</th>\n",
       "      <td>50.52</td>\n",
       "    </tr>\n",
       "    <tr>\n",
       "      <th>Durchschnittliches Einkommen Kunden</th>\n",
       "      <td>58,780.32E</td>\n",
       "    </tr>\n",
       "    <tr>\n",
       "      <th>Anzahl Kunden mit Kreditaufnahme</th>\n",
       "      <td>1088</td>\n",
       "    </tr>\n",
       "    <tr>\n",
       "      <th>%-Verteilung Kredit</th>\n",
       "      <td>0.985507</td>\n",
       "    </tr>\n",
       "  </tbody>\n",
       "</table>\n",
       "</div>"
      ],
      "text/plain": [
       "                                                      0\n",
       "Durschnittliches Alter Kunden                     50.29\n",
       "Durschnittliches Alter Visitors                   49.88\n",
       "Durchschnittliches Alter maennlich (Kunden)       50.34\n",
       "Durchschnittliches Alter weiblich (Kunden)        50.52\n",
       "Durchschnittliches Einkommen Kunden          58,780.32E\n",
       "Anzahl Kunden mit Kreditaufnahme                   1088\n",
       "%-Verteilung Kredit                            0.985507"
      ]
     },
     "metadata": {},
     "output_type": "display_data"
    }
   ],
   "source": [
    "mean_cust = cust_m['Alter'].mean()\n",
    "mean_vis = vis_m['Alter'].mean()\n",
    "age_cust_m_mean = cust_m.groupby('Geschlecht')['Alter'].mean()\n",
    "mean_cust_Einkommen = cust_m['Einkommen'].mean()\n",
    "cust_credit = cust_m[cust_m['Preis'] >= cust_m['Einkommen']].value_counts().sum()\n",
    "cust_credit_p = cust_credit/1104\n",
    "table = pd.DataFrame({\n",
    "    'Durschnittliches Alter Kunden': [round(mean_cust, 2)], \n",
    "    'Durschnittliches Alter Visitors': [round(mean_vis, 2)], \n",
    "    'Durchschnittliches Alter maennlich (Kunden)': ['50.34'],\n",
    "    'Durchschnittliches Alter weiblich (Kunden)': ['50.52'], \n",
    "    'Durchschnittliches Einkommen Kunden': ['{:,.2f}E'.format(mean_cust_Einkommen)], \n",
    "    'Anzahl Kunden mit Kreditaufnahme': [cust_credit], \n",
    "    '%-Verteilung Kredit': [cust_credit_p]\n",
    "})\n",
    "display(table.T)\n",
    "    "
   ]
  },
  {
   "cell_type": "markdown",
   "id": "b78dd59b",
   "metadata": {
    "slideshow": {
     "slide_type": "slide"
    }
   },
   "source": [
    "<font size = \"8\">5. Wie hoch ist die Korrelation (Pearson-Korrelation) zwischen den Variablen Alter, Einkommen, Preis und Zeit fuer unseren Kunden?</font>"
   ]
  },
  {
   "attachments": {
    "IMG-20240104-WA0002.jpg": {
     "image/jpeg": "[encoded data removed]"
    }
   },
   "cell_type": "markdown",
   "id": "c0ba6036",
   "metadata": {
    "slideshow": {
     "slide_type": "subslide"
    }
   },
   "source": [
    "![IMG-20240104-WA0002.jpg](attachment:IMG-20240104-WA0002.jpg)"
   ]
  },
  {
   "cell_type": "markdown",
   "id": "2ec7efc7",
   "metadata": {
    "slideshow": {
     "slide_type": "slide"
    }
   },
   "source": [
    "<font size = \"8\">6. Wie ist die Variable Zeit verteilt?</font>"
   ]
  },
  {
   "cell_type": "code",
   "execution_count": 37,
   "id": "8a27b981",
   "metadata": {
    "slideshow": {
     "slide_type": "subslide"
    }
   },
   "outputs": [
    {
     "data": {
      "text/plain": [
       "Text(0, 0.5, 'Anzahl der Besichtigungen')"
      ]
     },
     "execution_count": 37,
     "metadata": {},
     "output_type": "execute_result"
    },
    {
     "data": {
      "image/png": "[encoded data removed]",
      "text/plain": [
       "<Figure size 640x480 with 1 Axes>"
      ]
     },
     "metadata": {},
     "output_type": "display_data"
    }
   ],
   "source": [
    "time = cust_m['Zeit'].value_counts()\n",
    "time_asc = sorted(cust_m['Zeit'], reverse=True)\n",
    "time_asc_vis = sorted(vis_m['Zeit'], reverse=True)\n",
    "number_bins = 10\n",
    "a = 0.8\n",
    "plt.hist(time_asc, bins = number_bins, color = 'blue', edgecolor = 'black', alpha = a, label = 'Customers')\n",
    "plt.hist(time_asc_vis, bins = number_bins, color = 'red', alpha = a, label = 'Visitors')\n",
    "plt.legend()\n",
    "plt.title('Zeitverteilung')\n",
    "plt.xlabel('Fahrzeit')\n",
    "plt.ylabel('Anzahl der Besichtigungen')"
   ]
  },
  {
   "cell_type": "markdown",
   "id": "b3e5e89d",
   "metadata": {
    "slideshow": {
     "slide_type": "subslide"
    }
   },
   "source": [
    "<font size = \"6\">7. Und welche Variable beeinflusst den Preis des Autos am meinsten?</font>"
   ]
  },
  {
   "cell_type": "code",
   "execution_count": 71,
   "id": "5011ebc2",
   "metadata": {
    "slideshow": {
     "slide_type": "-"
    }
   },
   "outputs": [
    {
     "name": "stdout",
     "output_type": "stream",
     "text": [
      "Groessten Einfluss haben  die Variablen in folgender Sequenz: 1. Einkommen , 2. Alter, 3. Zeit, 4. Geschlecht \n"
     ]
    }
   ],
   "source": [
    "print(\"Groessten Einfluss haben  die Variablen in folgender Sequenz: 1. Einkommen , 2. Alter, 3. Zeit, 4. Geschlecht \")"
   ]
  },
  {
   "cell_type": "markdown",
   "id": "993800b9",
   "metadata": {
    "slideshow": {
     "slide_type": "slide"
    }
   },
   "source": [
    "<font size = \"8\">Zusammengefasst:</font>"
   ]
  },
  {
   "cell_type": "markdown",
   "id": "e4b4d128",
   "metadata": {
    "slideshow": {
     "slide_type": "-"
    }
   },
   "source": [
    "<h3>Targetgruppe vorwiegend<br>\n",
    "Maenner mittleren Alters mit einem durchschnittlichen Alter<br>\n",
    "Einkommen von 60 k<br>\n",
    "Conversion Rate liegt bei 55 Prozent<br>\n",
    "Suedlichen Bundeslaender sind Spitzenreiter im Vertriebsvolumen und Umsatz<br>\n",
    "Kreditrate liegt bei 99 Prozent</h3>"
   ]
  },
  {
   "cell_type": "markdown",
   "id": "42806ed3",
   "metadata": {
    "slideshow": {
     "slide_type": "slide"
    }
   },
   "source": [
    "<font size = \"8\">Probleme bei der Zusammenfuehrung des Datensatzes</font>"
   ]
  },
  {
   "cell_type": "markdown",
   "id": "7adf75a1",
   "metadata": {
    "slideshow": {
     "slide_type": "-"
    }
   },
   "source": [
    "<h3>Die Bundeslaender waren nicht eindeutig oder hatten eine falsche Formatierung. Darum haben wir mit einem Dicc. sie gleichgezogen.</h3>"
   ]
  },
  {
   "cell_type": "code",
   "execution_count": 13,
   "id": "8bc0f1ed",
   "metadata": {
    "slideshow": {
     "slide_type": "skip"
    }
   },
   "outputs": [],
   "source": [
    "df_geo['Niederlassung']= df_geo['Niederlassung'].astype(str)\n",
    "df_geo['Niederlassung'] = df_geo['Niederlassung'].str.title()\n",
    "#Data Cleaning um nur noch die Bundesländer zu zeigen\n",
    "mapping = {\n",
    "    'Berlin-Mitte': 'Berlin',\n",
    "    'Berlin-Charlottenburg': 'Berlin',\n",
    "    'Nrw': 'Nordrhein-Westfalen',\n",
    "    'Düsseldorf': 'Nordrhein-Westfalen'\n",
    "}\n",
    "df_geo['Niederlassung'] = df_geo['Niederlassung'].replace(mapping, regex=True)"
   ]
  },
  {
   "cell_type": "markdown",
   "id": "d89d03d3",
   "metadata": {
    "slideshow": {
     "slide_type": "subslide"
    }
   },
   "source": [
    "<h3>In dem Datensatz waren sehr grosse Datenpunkte fuer die Spalten Alter und Einkommen. Diese mussten wir entfernen.</h3>"
   ]
  },
  {
   "attachments": {
    "IMG-20240104-WA0001.jpg": {
     "image/jpeg": "[encoded data removed]"
    }
   },
   "cell_type": "markdown",
   "id": "8d8dc1fc",
   "metadata": {
    "slideshow": {
     "slide_type": "subslide"
    }
   },
   "source": [
    "![IMG-20240104-WA0001.jpg](attachment:IMG-20240104-WA0001.jpg)"
   ]
  },
  {
   "cell_type": "code",
   "execution_count": 22,
   "id": "cd3653ec",
   "metadata": {
    "slideshow": {
     "slide_type": "subslide"
    }
   },
   "outputs": [
    {
     "data": {
      "text/plain": [
       "<seaborn.axisgrid.FacetGrid at 0x174393e26d0>"
      ]
     },
     "execution_count": 22,
     "metadata": {},
     "output_type": "execute_result"
    },
    {
     "data": {
      "image/png": "[encoded data removed]",
      "text/plain": [
       "<Figure size 800x800 with 1 Axes>"
      ]
     },
     "metadata": {},
     "output_type": "display_data"
    }
   ],
   "source": [
    "sns.catplot(x='Alter', y='Preis', data=cust_m, kind='box', height=8)"
   ]
  },
  {
   "cell_type": "markdown",
   "id": "9d93926b",
   "metadata": {
    "slideshow": {
     "slide_type": "subslide"
    }
   },
   "source": [
    "<h3>Um eine Verzerrung der Daten durch die grossen Datenpunkte zu vermeiden, haben wir die IQR benutzt, um diese aus dem Datensatz zu exkludieren.</h3>"
   ]
  },
  {
   "cell_type": "code",
   "execution_count": 54,
   "id": "77952db2",
   "metadata": {
    "slideshow": {
     "slide_type": "skip"
    }
   },
   "outputs": [],
   "source": [
    "import pandas as pd\n",
    "\n",
    "# Assuming 'cust_m' is your DataFrame\n",
    "\n",
    "# Convert 'Einkommen' and 'Alter' columns to numeric\n",
    "cust_m['Einkommen'] = pd.to_numeric(cust_m['Einkommen'], errors='coerce')\n",
    "cust_m['Alter'] = pd.to_numeric(cust_m['Alter'], errors='coerce')\n",
    "\n",
    "# Drop rows with NaN values (if any) after the conversion\n",
    "cust_m = cust_m.dropna(subset=['Einkommen', 'Alter'])\n",
    "\n",
    "# Outlier detection for 'Einkommen'\n",
    "Q1 = cust_m['Einkommen'].quantile(0.25)\n",
    "Q3 = cust_m['Einkommen'].quantile(0.75)\n",
    "IQR = Q3 - Q1\n",
    "\n",
    "lower_bound = Q1 - 1.5 * IQR\n",
    "upper_bound = Q3 + 1.5 * IQR\n",
    "\n",
    "cust_m = cust_m[(cust_m['Einkommen'] >= lower_bound) & (cust_m['Einkommen'] < upper_bound)]\n",
    "\n",
    "# Outlier detection for 'Alter'\n",
    "Q1_Alter = cust_m['Alter'].quantile(0.25)\n",
    "Q3_Alter = cust_m['Alter'].quantile(0.75)\n",
    "IQR_Alter = Q3_Alter - Q1_Alter\n",
    "\n",
    "lower_bound_Alter = Q1_Alter - 1.5 * IQR_Alter\n",
    "upper_bound_Alter = Q3_Alter + 1.5 * IQR_Alter\n",
    "\n",
    "cust_m = cust_m[(cust_m['Alter'] >= lower_bound_Alter) & (cust_m['Alter'] < upper_bound_Alter)]\n",
    "#this excludes 11 rows "
   ]
  },
  {
   "cell_type": "markdown",
   "id": "86f8bffd",
   "metadata": {
    "slideshow": {
     "slide_type": "subslide"
    }
   },
   "source": [
    "<h3>Der Datensatz (Besucher[Einkommen]) enthielt eine Komma-Formatierung, welche wir offline geaendert haben.</h3>"
   ]
  },
  {
   "cell_type": "markdown",
   "id": "4a6d55fc",
   "metadata": {
    "slideshow": {
     "slide_type": "slide"
    }
   },
   "source": [
    "<font size = \"8\">Prognosen vom Kaufpreis eines Autos</font>"
   ]
  },
  {
   "cell_type": "code",
   "execution_count": 61,
   "id": "511be941",
   "metadata": {
    "slideshow": {
     "slide_type": "skip"
    }
   },
   "outputs": [
    {
     "name": "stdout",
     "output_type": "stream",
     "text": [
      "Kunde 1: maennlicher  Kunde im Alter von 32 Jahren mit einem Einkommen von 30.000 Euro.\n",
      "Kaufpreis Kunde 1: [50324.14218393]\n",
      "Kunde 2: maennlicher Kunde im Alter von 51 Jahren und mit einem Einkommen von 54.000 Euro.\n",
      "Kaufpreis Kunde 2: [84813.9341628]\n",
      "Beta-Koeffizienten fuer Preisvorhersage: [4.78444872e+02 2.06504030e+03 1.05830581e+00]\n"
     ]
    }
   ],
   "source": [
    "cust_m.dropna(inplace=True)\n",
    "cust_m['Kauf'] = 1\n",
    "X = cust_m[['Alter', 'Geschlecht', 'Einkommen']]\n",
    "y= cust_m['Preis']\n",
    "model = LinearRegression()\n",
    "x = model.fit(X, y)\n",
    "kunde_1 = [[32, 1.0, 30000]]\n",
    "prognose_1 = x.predict(kunde_1)\n",
    "kunde_2 = [[51, 1.0, 54000]]\n",
    "prognose_2 = x.predict(kunde_2)\n",
    "print(\"Kunde 1: maennlicher  Kunde im Alter von 32 Jahren mit einem Einkommen von 30.000 Euro.\")\n",
    "print(\"Kaufpreis Kunde 1:\", prognose_1)\n",
    "\n",
    "print(\"Kunde 2: maennlicher Kunde im Alter von 51 Jahren und mit einem Einkommen von 54.000 Euro.\")\n",
    "print(\"Kaufpreis Kunde 2:\", prognose_2)\n",
    "\n",
    "beta_price = model.coef_\n",
    "print(\"Beta-Koeffizienten fuer Preisvorhersage:\", beta_price)"
   ]
  },
  {
   "cell_type": "markdown",
   "id": "3431c165",
   "metadata": {
    "slideshow": {
     "slide_type": "subslide"
    }
   },
   "source": [
    "<h3>Kunde 1: maennlicher  Kunde im Alter von 32 Jahren mit einem Einkommen von 30.000 Euro.<br>\n",
    "Kaufpreis Kunde 1: [50324.14]<br>\n",
    "Kunde 2: maennlicher Kunde im Alter von 51 Jahren und mit einem Einkommen von 54.000 Euro.<br>\n",
    "Kaufpreis Kunde 2: [84813.93]<br>\n",
    "Beta-Koeffizienten fuer Preisvorhersage: [4.78444872e+02 2.06504030e+03 1.05830581e+00]</h3>"
   ]
  },
  {
   "cell_type": "markdown",
   "id": "85d1118e",
   "metadata": {
    "slideshow": {
     "slide_type": "slide"
    }
   },
   "source": [
    "<font size = \"8\">Wahrscheinlichkeit des Kaufs eines Autos</font>"
   ]
  },
  {
   "cell_type": "markdown",
   "id": "4cf9f1d9",
   "metadata": {
    "slideshow": {
     "slide_type": "-"
    }
   },
   "source": [
    "<h3>Um die Prognose laufen zu lassen, mussten wir die beiden Datensaetze (Besucher und Kunden) zusammenfuehren (concatenation). \n",
    "\n",
    "Dazu mussten wir eine neue Spalte hinzufuegen, welche binaere Ergebnisse zeigt ob die Person Kunde wurde und damit das Auto gekauft hat.</h3>"
   ]
  },
  {
   "cell_type": "code",
   "execution_count": 39,
   "id": "dd0e101e",
   "metadata": {
    "scrolled": false,
    "slideshow": {
     "slide_type": "skip"
    }
   },
   "outputs": [
    {
     "name": "stdout",
     "output_type": "stream",
     "text": [
      "0\n",
      "<class 'pandas.core.frame.DataFrame'>\n",
      "RangeIndex: 1984 entries, 0 to 1983\n",
      "Data columns (total 7 columns):\n",
      " #   Column         Non-Null Count  Dtype  \n",
      "---  ------         --------------  -----  \n",
      " 0   Alter          1984 non-null   int64  \n",
      " 1   Einkommen      1984 non-null   float64\n",
      " 2   Preis          1984 non-null   float64\n",
      " 3   Geschlecht     1984 non-null   float64\n",
      " 4   Zeit           1984 non-null   float64\n",
      " 5   Niederlassung  1984 non-null   object \n",
      " 6   Kauf           1984 non-null   int32  \n",
      "dtypes: float64(4), int32(1), int64(1), object(1)\n",
      "memory usage: 100.9+ KB\n"
     ]
    }
   ],
   "source": [
    "complete_df = pd.concat([cust_m, vis_m], ignore_index=True)\n",
    "complete_df['Kauf'] = np.where(complete_df['Preis'].isna(), 0, 1)\n",
    "complete_df['Preis'] = complete_df['Preis'].fillna(0)\n",
    "print(complete_df['Einkommen'].isna().sum())\n",
    "complete_df.head(5)\n",
    "complete_df.info()"
   ]
  },
  {
   "cell_type": "code",
   "execution_count": 62,
   "id": "0a37a434",
   "metadata": {
    "scrolled": true,
    "slideshow": {
     "slide_type": "skip"
    }
   },
   "outputs": [
    {
     "name": "stdout",
     "output_type": "stream",
     "text": [
      "Beta-Koeffizienten fuer Kaufvorhersage: [[-1.00597332e-02  4.98424972e-04 -3.94703287e-05  7.80769765e-02]]\n",
      "Kunde 1: ein 32-jähriger maennlicher Kunde mit einem Einkommen von 30.000 Euro, der das Auto 30 Minuten lang getestet hat.\n",
      "Wahrscheinlichkeit Kunde 1 kauft: [0.88147699]\n",
      "Kunde 2: ein 51-jähriger maennlicher Kunde mit einem Einkommen von 54.000 Euro, der das Auto 45 Minuten lang getestet hat.\n",
      "Wahrscheinlichkeit Kunde 2 kauft: [0.70434372]\n"
     ]
    }
   ],
   "source": [
    "X_purchase = complete_df[['Alter', 'Geschlecht', 'Einkommen', 'Zeit']]\n",
    "y_purchase = complete_df['Kauf']\n",
    "model_purchase = LogisticRegression()\n",
    "model_purchase.fit(X_purchase, y_purchase)\n",
    "\n",
    "# Beta-Koeffizienten für die Kaufvorhersage\n",
    "beta_purchase = model_purchase.coef_\n",
    "#print(\"Beta-Koeffizienten fuer Kaufvorhersage:\", beta_purchase)\n",
    "\n",
    "# Wahrscheinlichkeitsvorhersage für Kauf\n",
    "kunde_1_purchase = [[32, 1.0, 30000, 45]]\n",
    "probability_1 = model_purchase.predict_proba(kunde_1_purchase)[:, 1]\n",
    "kunde_2_purchase = [[51, 1.0, 54000, 45]]\n",
    "probability_2 = model_purchase.predict_proba(kunde_2_purchase)[:, 1]\n",
    "\n",
    "#print(\"Kunde 1: ein 32-jaehriger maennlicher Kunde mit einem Einkommen von 30.000 Euro, der das Auto 30 Minuten lang getestet hat.\")\n",
    "#print(\"Wahrscheinlichkeit Kunde 1 kauft:\", probability_1)\n",
    "#print(\"Kunde 2: ein 51-jaehriger maennlicher Kunde mit einem Einkommen von 54.000 Euro, der das Auto 45 Minuten lang getestet hat.\")\n",
    "#print(\"Wahrscheinlichkeit Kunde 2 kauft:\", probability_2)"
   ]
  },
  {
   "cell_type": "markdown",
   "id": "211640b4",
   "metadata": {
    "slideshow": {
     "slide_type": "subslide"
    }
   },
   "source": [
    "<h3>Kunde 1: ein 32-jaehriger maennlicher Kunde mit einem Einkommen von 30.000 Euro, der das Auto 30 Minuten lang getestet hat.\n",
    "Wahrscheinlichkeit Kunde 1 kauft: 54.6 Prozent</h3>\n",
    "\n",
    "<h3>Kunde 2: ein 51-jaehriger maennlicher Kunde mit einem Einkommen von 54.000 Euro, der das Auto 45 Minuten lang getestet hat.\n",
    "Wahrscheinlichkeit Kunde 2 kauft: 73.8 Prozent</h3>"
   ]
  },
  {
   "cell_type": "code",
   "execution_count": 43,
   "id": "a7d53dd6",
   "metadata": {
    "slideshow": {
     "slide_type": "-"
    }
   },
   "outputs": [
    {
     "name": "stdout",
     "output_type": "stream",
     "text": [
      "0    54.596122\n",
      "dtype: float64\n",
      "0    73.820666\n",
      "dtype: float64\n"
     ]
    }
   ],
   "source": [
    "new_data_cust_1 = pd.DataFrame({'Alter': [32], 'Einkommen': [30000], 'Geschlecht': [1.0], 'Zeit': [30]})\n",
    "prediction = reg.predict(new_data_cust_1)\n",
    "print(prediction*100)\n",
    "\n",
    "new_data_cust_2 = pd.DataFrame({'Alter': [51], 'Einkommen':[54000], 'Geschlecht': [1.0], 'Zeit': [45]})\n",
    "prediction_2 = reg.predict(new_data_cust_2)\n",
    "print(prediction_2*100)"
   ]
  },
  {
   "cell_type": "code",
   "execution_count": 41,
   "id": "69c4c572",
   "metadata": {
    "scrolled": true,
    "slideshow": {
     "slide_type": "skip"
    }
   },
   "outputs": [
    {
     "name": "stdout",
     "output_type": "stream",
     "text": [
      "Optimization terminated successfully.\n",
      "         Current function value: 0.580665\n",
      "         Iterations 6\n"
     ]
    }
   ],
   "source": [
    "import statsmodels.formula.api as smf \n",
    "reg = smf.logit('Kauf ~ Alter + Einkommen + Geschlecht + Zeit', data = complete_df).fit()"
   ]
  },
  {
   "cell_type": "code",
   "execution_count": 42,
   "id": "d57a8419",
   "metadata": {
    "scrolled": false,
    "slideshow": {
     "slide_type": "subslide"
    }
   },
   "outputs": [
    {
     "data": {
      "text/html": [
       "<table class=\"simpletable\">\n",
       "<caption>Logit Regression Results</caption>\n",
       "<tr>\n",
       "  <th>Dep. Variable:</th>         <td>Kauf</td>       <th>  No. Observations:  </th>  <td>  1984</td>  \n",
       "</tr>\n",
       "<tr>\n",
       "  <th>Model:</th>                 <td>Logit</td>      <th>  Df Residuals:      </th>  <td>  1979</td>  \n",
       "</tr>\n",
       "<tr>\n",
       "  <th>Method:</th>                 <td>MLE</td>       <th>  Df Model:          </th>  <td>     4</td>  \n",
       "</tr>\n",
       "<tr>\n",
       "  <th>Date:</th>            <td>Wed, 03 Jan 2024</td> <th>  Pseudo R-squ.:     </th>  <td>0.1560</td>  \n",
       "</tr>\n",
       "<tr>\n",
       "  <th>Time:</th>                <td>16:51:32</td>     <th>  Log-Likelihood:    </th> <td> -1152.0</td> \n",
       "</tr>\n",
       "<tr>\n",
       "  <th>converged:</th>             <td>True</td>       <th>  LL-Null:           </th> <td> -1364.9</td> \n",
       "</tr>\n",
       "<tr>\n",
       "  <th>Covariance Type:</th>     <td>nonrobust</td>    <th>  LLR p-value:       </th> <td>7.675e-91</td>\n",
       "</tr>\n",
       "</table>\n",
       "<table class=\"simpletable\">\n",
       "<tr>\n",
       "       <td></td>         <th>coef</th>     <th>std err</th>      <th>z</th>      <th>P>|z|</th>  <th>[0.025</th>    <th>0.975]</th>  \n",
       "</tr>\n",
       "<tr>\n",
       "  <th>Intercept</th>  <td>   -2.4148</td> <td>    0.264</td> <td>   -9.155</td> <td> 0.000</td> <td>   -2.932</td> <td>   -1.898</td>\n",
       "</tr>\n",
       "<tr>\n",
       "  <th>Alter</th>      <td>    0.0180</td> <td>    0.007</td> <td>    2.616</td> <td> 0.009</td> <td>    0.005</td> <td>    0.031</td>\n",
       "</tr>\n",
       "<tr>\n",
       "  <th>Einkommen</th>  <td>-4.219e-05</td> <td> 5.45e-06</td> <td>   -7.742</td> <td> 0.000</td> <td>-5.29e-05</td> <td>-3.15e-05</td>\n",
       "</tr>\n",
       "<tr>\n",
       "  <th>Geschlecht</th> <td>    0.2429</td> <td>    0.103</td> <td>    2.357</td> <td> 0.018</td> <td>    0.041</td> <td>    0.445</td>\n",
       "</tr>\n",
       "<tr>\n",
       "  <th>Zeit</th>       <td>    0.1016</td> <td>    0.006</td> <td>   17.419</td> <td> 0.000</td> <td>    0.090</td> <td>    0.113</td>\n",
       "</tr>\n",
       "</table>"
      ],
      "text/latex": [
       "\\begin{center}\n",
       "\\begin{tabular}{lclc}\n",
       "\\toprule\n",
       "\\textbf{Dep. Variable:}   &       Kauf       & \\textbf{  No. Observations:  } &     1984    \\\\\n",
       "\\textbf{Model:}           &      Logit       & \\textbf{  Df Residuals:      } &     1979    \\\\\n",
       "\\textbf{Method:}          &       MLE        & \\textbf{  Df Model:          } &        4    \\\\\n",
       "\\textbf{Date:}            & Wed, 03 Jan 2024 & \\textbf{  Pseudo R-squ.:     } &   0.1560    \\\\\n",
       "\\textbf{Time:}            &     16:51:32     & \\textbf{  Log-Likelihood:    } &   -1152.0   \\\\\n",
       "\\textbf{converged:}       &       True       & \\textbf{  LL-Null:           } &   -1364.9   \\\\\n",
       "\\textbf{Covariance Type:} &    nonrobust     & \\textbf{  LLR p-value:       } & 7.675e-91   \\\\\n",
       "\\bottomrule\n",
       "\\end{tabular}\n",
       "\\begin{tabular}{lcccccc}\n",
       "                    & \\textbf{coef} & \\textbf{std err} & \\textbf{z} & \\textbf{P$> |$z$|$} & \\textbf{[0.025} & \\textbf{0.975]}  \\\\\n",
       "\\midrule\n",
       "\\textbf{Intercept}  &      -2.4148  &        0.264     &    -9.155  &         0.000        &       -2.932    &       -1.898     \\\\\n",
       "\\textbf{Alter}      &       0.0180  &        0.007     &     2.616  &         0.009        &        0.005    &        0.031     \\\\\n",
       "\\textbf{Einkommen}  &   -4.219e-05  &     5.45e-06     &    -7.742  &         0.000        &    -5.29e-05    &    -3.15e-05     \\\\\n",
       "\\textbf{Geschlecht} &       0.2429  &        0.103     &     2.357  &         0.018        &        0.041    &        0.445     \\\\\n",
       "\\textbf{Zeit}       &       0.1016  &        0.006     &    17.419  &         0.000        &        0.090    &        0.113     \\\\\n",
       "\\bottomrule\n",
       "\\end{tabular}\n",
       "%\\caption{Logit Regression Results}\n",
       "\\end{center}"
      ],
      "text/plain": [
       "<class 'statsmodels.iolib.summary.Summary'>\n",
       "\"\"\"\n",
       "                           Logit Regression Results                           \n",
       "==============================================================================\n",
       "Dep. Variable:                   Kauf   No. Observations:                 1984\n",
       "Model:                          Logit   Df Residuals:                     1979\n",
       "Method:                           MLE   Df Model:                            4\n",
       "Date:                Wed, 03 Jan 2024   Pseudo R-squ.:                  0.1560\n",
       "Time:                        16:51:32   Log-Likelihood:                -1152.0\n",
       "converged:                       True   LL-Null:                       -1364.9\n",
       "Covariance Type:            nonrobust   LLR p-value:                 7.675e-91\n",
       "==============================================================================\n",
       "                 coef    std err          z      P>|z|      [0.025      0.975]\n",
       "------------------------------------------------------------------------------\n",
       "Intercept     -2.4148      0.264     -9.155      0.000      -2.932      -1.898\n",
       "Alter          0.0180      0.007      2.616      0.009       0.005       0.031\n",
       "Einkommen  -4.219e-05   5.45e-06     -7.742      0.000   -5.29e-05   -3.15e-05\n",
       "Geschlecht     0.2429      0.103      2.357      0.018       0.041       0.445\n",
       "Zeit           0.1016      0.006     17.419      0.000       0.090       0.113\n",
       "==============================================================================\n",
       "\"\"\""
      ]
     },
     "execution_count": 42,
     "metadata": {},
     "output_type": "execute_result"
    }
   ],
   "source": [
    "reg.summary()"
   ]
  },
  {
   "cell_type": "markdown",
   "id": "ee28a8b8",
   "metadata": {
    "slideshow": {
     "slide_type": "slide"
    }
   },
   "source": [
    "<font size = \"8\">Fuer die naechste Umfrage</font>"
   ]
  },
  {
   "cell_type": "markdown",
   "id": "7294e629",
   "metadata": {
    "slideshow": {
     "slide_type": "subslide"
    }
   },
   "source": [
    "<h3>Ist die Kreditrate wirklich so enorm oder wie kann die Sparsumme der Haushalte in die Regression integriert werden? <br>\n",
    "Was wirkt sich am meisten auf die Unterschiede zwischen den Verkaufszahlen in den einzelnen Bundeslaendern aus?<br>\n",
    "Was bewirkt den Umsprung von Besucher zu Kunde im Kontext gefahrene Zeit? <br>\n",
    "Wie wuerden Neukunden auf eine Inhouse Finanzierung anspringen?<br> \n",
    "Was waren die Gruende fuer die Besucher, nicht Kunde zu werden?</h3>"
   ]
  },
  {
   "cell_type": "code",
   "execution_count": 44,
   "id": "920c01e8",
   "metadata": {
    "slideshow": {
     "slide_type": "skip"
    }
   },
   "outputs": [
    {
     "name": "stdout",
     "output_type": "stream",
     "text": [
      "EDA took 62.49 min. \n"
     ]
    }
   ],
   "source": [
    "Investigation_Ende = dt.datetime.now()\n",
    "investigation_time = Investigation_Ende - start_time \n",
    "minutes = divmod(investigation_time.total_seconds(), 60)[0]\n",
    "seconds = round(divmod(investigation_time.total_seconds(), 60)[1], 0)\n",
    "total = str(int(minutes)) + '.' +  str(int(seconds))\n",
    "print(f'EDA took {total} min. ')"
   ]
  },
  {
   "cell_type": "markdown",
   "id": "b57b33de",
   "metadata": {
    "slideshow": {
     "slide_type": "slide"
    }
   },
   "source": [
    "<center>\n",
    "    <font size = \"16\">Vielen Dank fuer Ihre Aufmerksamkeit!</font>\n",
    "</center>"
   ]
  },
  {
   "cell_type": "code",
   "execution_count": null,
   "id": "e364e531",
   "metadata": {},
   "outputs": [],
   "source": []
  }
 ],
 "metadata": {
  "celltoolbar": "Slideshow",
  "kernelspec": {
   "display_name": "Python 3 (ipykernel)",
   "language": "python",
   "name": "python3"
  },
  "language_info": {
   "codemirror_mode": {
    "name": "ipython",
    "version": 3
   },
   "file_extension": ".py",
   "mimetype": "text/x-python",
   "name": "python",
   "nbconvert_exporter": "python",
   "pygments_lexer": "ipython3",
   "version": "3.11.5"
  }
 },
 "nbformat": 4,
 "nbformat_minor": 5
}
